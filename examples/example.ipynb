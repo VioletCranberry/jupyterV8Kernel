{
 "cells": [
  {
   "cell_type": "code",
   "execution_count": 5,
   "id": "b74c9200-acae-4b9f-9a37-b96f81e79d95",
   "metadata": {},
   "outputs": [
    {
     "name": "stdout",
     "output_type": "stream",
     "text": [
      "3"
     ]
    }
   ],
   "source": [
    "function add(a, b) {\n",
    "    return a + b;\n",
    "}\n",
    "result = add(1, 2);\n",
    "result"
   ]
  },
  {
   "cell_type": "code",
   "execution_count": 8,
   "id": "af0ff816-2d18-47a3-b762-378b68247172",
   "metadata": {},
   "outputs": [
    {
     "name": "stdout",
     "output_type": "stream",
     "text": [
      "Hello from JavaScript!"
     ]
    }
   ],
   "source": [
    "\"Hello from JavaScript!\""
   ]
  }
 ],
 "metadata": {
  "kernelspec": {
   "display_name": "JavaScript (MiniRacer)",
   "language": "javascript",
   "name": "javascript_mini_racer"
  },
  "language_info": {
   "file_extension": ".js",
   "mimetype": "application/javascript",
   "name": "javascript"
  }
 },
 "nbformat": 4,
 "nbformat_minor": 5
}
